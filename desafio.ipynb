{
 "cells": [
  {
   "cell_type": "markdown",
   "metadata": {},
   "source": [
    "## Desafio"
   ]
  },
  {
   "cell_type": "markdown",
   "metadata": {},
   "source": [
    "### Importação pandas"
   ]
  },
  {
   "cell_type": "code",
   "execution_count": 4,
   "metadata": {},
   "outputs": [
    {
     "name": "stdout",
     "output_type": "stream",
     "text": [
      "  Genero_Usuario  Idade_Usuario   Bike  Estacao_Aluguel Data_Aluguel  \\\n",
      "0              M             44   4357              442   01/02/2020   \n",
      "1              M             22  12083               66   01/02/2020   \n",
      "2              M             29  11562              331   01/02/2020   \n",
      "3              M             27  10206              164   01/02/2020   \n",
      "4              M             27  10101              120   01/02/2020   \n",
      "\n",
      "  Hora_Aluguel  Estacao_Chegada Data_Chegada Hora_Chegada  \n",
      "0      0:00:38              116   01/02/2020      0:35:17  \n",
      "1      0:00:53               37   01/02/2020      0:06:23  \n",
      "2      0:00:55              341   01/02/2020      0:26:47  \n",
      "3      0:01:18               35   01/02/2020      0:16:51  \n",
      "4      0:01:18               47   01/02/2020      0:12:39  \n"
     ]
    }
   ],
   "source": [
    "import pandas as pd\n",
    "\n",
    "df = pd.read_csv('dataset.csv')\n",
    "\n",
    "print(df.head())"
   ]
  },
  {
   "cell_type": "markdown",
   "metadata": {},
   "source": [
    "### 1.Quais são as Top 5 estações com maior número de aluguel de bikes?"
   ]
  },
  {
   "cell_type": "code",
   "execution_count": null,
   "metadata": {},
   "outputs": [
    {
     "name": "stdout",
     "output_type": "stream",
     "text": [
      "    Estacao_Aluguel   QTD\n",
      "0                 1  6311\n",
      "188              27  6241\n",
      "190             271  5265\n",
      "438              64  4834\n",
      "344              41  4633\n"
     ]
    }
   ],
   "source": [
    "df['contador'] = 1\n",
    "\n",
    "estacoes_agrupadas = df.groupby('Estacao_Aluguel')['contador'].sum().reset_index()\n",
    "\n",
    "top_5_estacoes = estacoes_agrupadas.sort_values(by='contador', ascending=False).head(5)\n",
    "top_5_estacoes.rename(columns={'contador': 'QTD'}, inplace=True)\n",
    "\n",
    "print(top_5_estacoes)\n",
    "\n",
    "# top_5_estacoes.to_csv('top_5_estacoes.csv',index=False)\n"
   ]
  },
  {
   "cell_type": "markdown",
   "metadata": {},
   "source": [
    "### 2.Quais são as Top 5 rotas, com base na estação inicial e final, e a média de duração de cada aluguel? "
   ]
  },
  {
   "cell_type": "code",
   "execution_count": null,
   "metadata": {},
   "outputs": [
    {
     "name": "stdout",
     "output_type": "stream",
     "text": [
      "             Rota  total_alugueis  media_duracao_minutos\n",
      "56619    33 -> 33             376                  27.00\n",
      "20184     18 -> 1             319                   5.58\n",
      "77073  449 -> 449             304                   7.84\n",
      "28893  211 -> 217             303                   3.54\n",
      "27868  208 -> 206             298                   9.14\n"
     ]
    }
   ],
   "source": [
    "df['Hora_Aluguel'] = pd.to_datetime(df['Hora_Aluguel'], format='%H:%M:%S')\n",
    "df['Hora_Chegada'] = pd.to_datetime(df['Hora_Chegada'], format='%H:%M:%S')\n",
    "\n",
    "df['Duracao_Minutos'] = (df['Hora_Chegada'] - df['Hora_Aluguel']).dt.total_seconds() / 60\n",
    "\n",
    "df['Estacao_Aluguel'] = df['Estacao_Aluguel'].astype(str)\n",
    "df['Estacao_Chegada'] = df['Estacao_Chegada'].astype(str)\n",
    "\n",
    "df['Rota'] = df['Estacao_Aluguel'] + ' -> ' + df['Estacao_Chegada']\n",
    "\n",
    "rotas_agrupadas = df.groupby('Rota').agg(\n",
    "    total_alugueis=('Rota', 'count'),\n",
    "    media_duracao_minutos=('Duracao_Minutos', 'mean')\n",
    ").reset_index()\n",
    "rotas_agrupadas['media_duracao_minutos'] = rotas_agrupadas['media_duracao_minutos'].round(2)\n",
    "\n",
    "\n",
    "top_5_rotas = rotas_agrupadas.sort_values(by='total_alugueis', ascending=False).head(5)\n",
    "\n",
    "print(top_5_rotas)\n",
    "\n",
    "# top_5_rotas.to_csv('top_5_rotas.csv',index=False)\n",
    "\n"
   ]
  },
  {
   "cell_type": "markdown",
   "metadata": {},
   "source": [
    "### 3.Quem aluga mais bikes, homens ou mulheres? Qual o tempo médio de aluguel de bikes? "
   ]
  },
  {
   "cell_type": "code",
   "execution_count": null,
   "metadata": {},
   "outputs": [
    {
     "name": "stdout",
     "output_type": "stream",
     "text": [
      "  Genero_Usuario   total  media_duracao_minutos\n",
      "0              F  175224                  16.88\n",
      "1              M  511103                   8.79\n",
      "Genero_Usuario                M\n",
      "total                    511103\n",
      "media_duracao_minutos      8.79\n",
      "Name: 1, dtype: object\n"
     ]
    }
   ],
   "source": [
    "mapeamento_genero = {'M': 'Masculino', 'F': 'Feminino'}\n",
    "genero_mais_aluga = df.groupby('Genero_Usuario').agg(\n",
    "    total=('Genero_Usuario', 'count'),\n",
    "    media_duracao_minutos=('Duracao_Minutos', 'mean')\n",
    ").reset_index()\n",
    "\n",
    "genero_mais_aluga['media_duracao_minutos'] = rotas_agrupadas['media_duracao_minutos'].round(2)\n",
    "\n",
    "print(genero_mais_aluga)\n",
    "genero_mais_alugueis = genero_mais_aluga.loc[genero_mais_aluga['total'].idxmax()]\n",
    "genero_nome = mapeamento_genero.get(genero_mais_alugueis['Genero_Usuario'], \"Desconhecido\")\n",
    "\n",
    "mensagem = (\n",
    "    f\"O gênero que mais aluga bikes é {genero_nome} \"\n",
    "    f\"com um total de {genero_mais_alugueis['total']} aluguéis. \"\n",
    "    f\"O tempo médio de aluguel é {genero_mais_alugueis['media_duracao_minutos']:.2f} minutos.\"\n",
    ")\n",
    "\n",
    "print(genero_mais_alugueis)\n",
    "# genero_mais_aluga.to_csv('genero_mais_aluga.csv',index=False)\n"
   ]
  },
  {
   "cell_type": "markdown",
   "metadata": {},
   "source": [
    "### 4.Qual faixa etária aluga mais bikes? Qual o tempo médio de aluguel de bikes? "
   ]
  },
  {
   "cell_type": "code",
   "execution_count": null,
   "metadata": {},
   "outputs": [
    {
     "name": "stdout",
     "output_type": "stream",
     "text": [
      "Faixa_Etaria             31 - 39 anos\n",
      "total                          226198\n",
      "media_duracao_minutos           11.68\n",
      "Name: 3, dtype: object\n"
     ]
    }
   ],
   "source": [
    "faixas_definidas = [15, 17, 24, 30, 39, 50, 60, float('inf')]\n",
    "\n",
    "faixas_texto = [\n",
    "    '15 - 17 anos',\n",
    "    '18 - 24 anos',\n",
    "    '25 - 30 anos',\n",
    "    '31 - 39 anos',\n",
    "    '40 - 50 anos',\n",
    "    '51 - 60 anos',\n",
    "    '61+'\n",
    "]\n",
    "\n",
    "df['Faixa_Etaria'] = pd.cut(df['Idade_Usuario'], bins=faixas_definidas, labels=faixas_texto, right=True)\n",
    "\n",
    "faixas_agrupadas = df.groupby('Faixa_Etaria',observed=True).agg(\n",
    "    total=('contador', 'count'),\n",
    "    media_duracao_minutos=('Duracao_Minutos', 'mean')\n",
    ").reset_index()\n",
    "\n",
    "faixas_agrupadas['media_duracao_minutos']=faixas_agrupadas['media_duracao_minutos'].round(2)\n",
    "\n",
    "faixa_com_maior_recorrencia = faixas_agrupadas.loc[faixas_agrupadas['total'].idxmax()]\n",
    "\n",
    "\n",
    "mensagem = (\n",
    "    f\"A faixa de idade com maior recorrência de aluguel é {faixa_com_maior_recorrencia['Faixa_Etaria']} \"\n",
    "    f\"com um total de {faixa_com_maior_recorrencia['total']} aluguéis. \"\n",
    "    f\"O tempo médio de aluguel é {faixa_com_maior_recorrencia['media_duracao_minutos']:.2f} minutos.\"\n",
    ")\n",
    "\n",
    "print(faixa_com_maior_recorrencia)\n",
    "\n",
    "# faixa_com_maior_recorrencia.to_frame().T.to_csv('faixa_com_maior_recorrencia.csv',index=False)"
   ]
  },
  {
   "cell_type": "markdown",
   "metadata": {},
   "source": [
    "### 5.Quais são as estações com maior número de bikes alugadas/devolvidas? "
   ]
  },
  {
   "cell_type": "code",
   "execution_count": null,
   "metadata": {},
   "outputs": [
    {
     "name": "stdout",
     "output_type": "stream",
     "text": [
      "    Estacao  total_alugueis  total_devolucoes\n",
      "0         1            6311              6115\n",
      "189      27            6241              6220\n",
      "191     271            5265              4917\n",
      "441      64            4834              5165\n",
      "347      41            4633              3836\n"
     ]
    }
   ],
   "source": [
    "alugueis_por_estacao = df.groupby('Estacao_Aluguel').agg(\n",
    "    total_alugueis=('Estacao_Aluguel', 'count')\n",
    ").reset_index()\n",
    "\n",
    "devolucoes_por_estacao = df.groupby('Estacao_Chegada').agg(\n",
    "    total_devolucoes=('Estacao_Chegada', 'count')\n",
    ").reset_index()\n",
    "\n",
    "estacoes_aluguel_devolucao = pd.merge(\n",
    "    alugueis_por_estacao, devolucoes_por_estacao,\n",
    "    left_on='Estacao_Aluguel', right_on='Estacao_Chegada',\n",
    "    how='outer'\n",
    ").fillna(0)\n",
    "\n",
    "estacoes_aluguel_devolucao['total_alugueis'] = estacoes_aluguel_devolucao['total_alugueis'].astype(int)\n",
    "estacoes_aluguel_devolucao['total_devolucoes'] = estacoes_aluguel_devolucao['total_devolucoes'].astype(int)\n",
    "\n",
    "estacoes_aluguel_devolucao.rename(columns={'Estacao_Aluguel': 'Estacao'}, inplace=True)\n",
    "estacoes_aluguel_devolucao.drop(columns=['Estacao_Chegada'], inplace=True)\n",
    "\n",
    "\n",
    "\n",
    "estacoes_top_aluguel_devolucao = estacoes_aluguel_devolucao.sort_values(by=['total_alugueis', 'total_devolucoes'], ascending=[False, False]).head(5)\n",
    "\n",
    "print(estacoes_top_aluguel_devolucao)\n",
    "\n",
    "# estacoes_top_aluguel_devolucao.to_csv('estacoes_top_aluguel_devolucao.csv', index=False)\n"
   ]
  }
 ],
 "metadata": {
  "kernelspec": {
   "display_name": "Python 3",
   "language": "python",
   "name": "python3"
  },
  "language_info": {
   "codemirror_mode": {
    "name": "ipython",
    "version": 3
   },
   "file_extension": ".py",
   "mimetype": "text/x-python",
   "name": "python",
   "nbconvert_exporter": "python",
   "pygments_lexer": "ipython3",
   "version": "3.12.8"
  }
 },
 "nbformat": 4,
 "nbformat_minor": 2
}
